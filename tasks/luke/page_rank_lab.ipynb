{
 "cells": [
  {
   "cell_type": "code",
   "execution_count": 1,
   "metadata": {},
   "outputs": [],
   "source": [
    "import plotly.express as px\n",
    "import plotly.graph_objects as go\n",
    "import pandas as pd\n",
    "import numpy as np\n",
    "import pagerank_test"
   ]
  },
  {
   "cell_type": "code",
   "execution_count": 2,
   "metadata": {},
   "outputs": [
    {
     "name": "stdout",
     "output_type": "stream",
     "text": [
      "\n",
      "           1     2     3     4     5     6\n",
      "     -------------------------------------\n",
      " 1  |  0.167 0.167 0.167 0.167 0.167 0.167\n",
      " 2  |  0.167 0.167 0.167 0.167 0.167 0.167\n",
      " 3  |  0.167 0.167 0.167 0.167 0.167 0.167\n",
      " 4  |  0.167 0.167 0.167 0.167 0.167 0.167\n",
      " 5  |  0.167 0.167 0.167 0.167 0.167 0.167\n",
      " 6  |  0.167 0.167 0.167 0.167 0.167 0.167\n",
      "\n"
     ]
    }
   ],
   "source": [
    "print(pagerank_test.A2)"
   ]
  },
  {
   "cell_type": "code",
   "execution_count": 2,
   "metadata": {},
   "outputs": [
    {
     "name": "stdout",
     "output_type": "stream",
     "text": [
      "Original markov mat\n",
      "[[1.         0.         0.         0.5        0.         0.        ]\n",
      " [0.         0.         1.         0.5        0.33333333 0.5       ]\n",
      " [0.         1.         0.         0.         0.         0.        ]\n",
      " [0.         0.         0.         0.         0.33333333 0.        ]\n",
      " [0.         0.         0.         0.         0.         0.5       ]\n",
      " [0.         0.         0.         0.         0.33333333 0.        ]]\n",
      "[1.62008527 1.90067519 1.79851951 0.21885362 0.24301279 0.21885362]\n",
      "[1.62008527 1.90067519 1.79851951 0.21885362 0.24301279 0.21885362]\n"
     ]
    }
   ],
   "source": [
    "import numpy as np\n",
    "def find_num_links(link_mat):\n",
    "    # returns a vector equal in length to columns of link_mat\n",
    "    # each row in the vector is the sum of links in the corresponding column\n",
    "    ones_vec = np.ones(link_mat.shape[0])\n",
    "    return link_mat.T@ones_vec\n",
    "    \n",
    "sum_mat = np.array([[1,0,0,1,0,0],\n",
    "                    [0,0,1,1,1,1],\n",
    "                    [0,1,0,0,0,0],\n",
    "                    [0,0,0,0,1,0],\n",
    "                    [0,0,0,0,0,1],\n",
    "                    [0,0,0,0,1,0]])\n",
    "\n",
    "def make_markov(link_mat):\n",
    "    num_links = find_num_links(link_mat)\n",
    "    num_links_weights = 1/num_links\n",
    "    diag_weights = np.diag(num_links_weights)\n",
    "    A1_mat = link_mat@diag_weights\n",
    "    return A1_mat\n",
    "\n",
    "def power_method(markov_mat, num_iters):\n",
    "    # don't use; this one has a hardcoded 6x6 matrix\n",
    "    init_vec = np.ones(markov_mat.shape[1])\n",
    "    A2_mat = np.full((6,6), 1/6)\n",
    "    A = (.85*markov_mat) + (.15*A2_mat)\n",
    "    output_vec = init_vec\n",
    "    for i in range(num_iters):\n",
    "        output_vec = A@output_vec\n",
    "    return output_vec\n",
    "\n",
    "def power_method_sparse(markov_mat, num_iters):\n",
    "    init_vec = np.ones(markov_mat.shape[1])\n",
    "    A2_val = 1/markov_mat.shape[0]\n",
    "    output_vec = init_vec\n",
    "    for i in range(num_iters):\n",
    "        w = markov_mat@output_vec\n",
    "        a2_adjust = .15 * output_vec.dot(np.full(len(output_vec), A2_val))\n",
    "        output_vec = (.85*w) + a2_adjust\n",
    "    return output_vec\n",
    "    \n",
    "markov_mat = make_markov(sum_mat)\n",
    "print(\"Original markov mat\")\n",
    "print(markov_mat)\n",
    "print(power_method(markov_mat, 20))\n",
    "print(power_method_sparse(markov_mat, 20))"
   ]
  },
  {
   "cell_type": "code",
   "execution_count": 3,
   "metadata": {},
   "outputs": [
    {
     "name": "stdout",
     "output_type": "stream",
     "text": [
      "new markov mat\n",
      "[[1.         0.         0.         0.5        0.         0.        ]\n",
      " [0.         0.         1.         0.5        0.33333333 0.5       ]\n",
      " [0.         1.         0.         0.         0.         0.        ]\n",
      " [0.         0.         0.         0.         0.33333333 0.        ]\n",
      " [0.         0.         0.         0.         0.         0.5       ]\n",
      " [0.         0.         0.         0.         0.33333333 0.        ]]\n",
      "[1.62008527 1.90067519 1.79851951 0.21885362 0.24301279 0.21885362]\n",
      "new power method\n",
      "[1.62008527 1.90067519 1.79851951 0.21885362 0.24301279 0.21885362]\n"
     ]
    }
   ],
   "source": [
    "from pageranker import PageRanker\n",
    "from scipy.sparse import dok_matrix\n",
    "from scipy.sparse import diags\n",
    "import numpy as np\n",
    "# titles_filename = \"ch_12_support/titles.txt\"\n",
    "# inverse_titles_index_filename = \"ch_12_support/inverseindex\"\n",
    "# word_index_filename = \"ch_12_support/indexindex.txt\"\n",
    "# links_filename = \"ch_12_support/links.bin\"\n",
    "\n",
    "# ranker = PageRanker(titles_filename, inverse_titles_index_filename, word_index_filename, links_filename)\n",
    "\n",
    "test_links = dok_matrix([[1,0,0,1,0,0],\n",
    "                        [0,0,1,1,1,1],\n",
    "                        [0,1,0,0,0,0],\n",
    "                        [0,0,0,0,1,0],\n",
    "                        [0,0,0,0,0,1],\n",
    "                        [0,0,0,0,1,0]])\n",
    "\n",
    "markov_mat = PageRanker.make_markov(test_links)\n"
   ]
  },
  {
   "cell_type": "code",
   "execution_count": 64,
   "metadata": {},
   "outputs": [
    {
     "name": "stdout",
     "output_type": "stream",
     "text": [
      "The autoreload extension is already loaded. To reload it, use:\n",
      "  %reload_ext autoreload\n",
      "The autoreload extension is already loaded. To reload it, use:\n",
      "  %reload_ext autoreload\n"
     ]
    }
   ],
   "source": [
    "%load_ext autoreload\n",
    "from pageranker import PageRanker\n",
    "%load_ext autoreload\n",
    "from ch_12_support import pagerank\n",
    "import struct\n",
    "import array\n",
    "\n"
   ]
  },
  {
   "cell_type": "code",
   "execution_count": 65,
   "metadata": {},
   "outputs": [
    {
     "name": "stdout",
     "output_type": "stream",
     "text": [
      "Starting expensive set-up. This will take a bit.\n",
      "Reading in wikipedia data from ./ch_12_support/links.bin\n",
      "..................................................................................\n",
      "Building map from title:position in vector\n",
      "building full links matrix\n",
      "Making links matrix markov...\n"
     ]
    },
    {
     "name": "stderr",
     "output_type": "stream",
     "text": [
      "/Users/luke.holoubek/Documents/coding_the_matrix/tasks/luke/pageranker.py:154: RuntimeWarning: divide by zero encountered in true_divide\n",
      "  multiplied = link_mat@diag_mat\n"
     ]
    },
    {
     "name": "stdout",
     "output_type": "stream",
     "text": [
      "Computing power method on our markov matrix to get our pagerank'd eigenvector\n"
     ]
    }
   ],
   "source": [
    "page_rank_vec = PageRanker.compute_pagerank_vector(page_ranker)"
   ]
  },
  {
   "cell_type": "code",
   "execution_count": 73,
   "metadata": {},
   "outputs": [
    {
     "name": "stdout",
     "output_type": "stream",
     "text": [
      "The autoreload extension is already loaded. To reload it, use:\n",
      "  %reload_ext autoreload\n",
      "Building map from title:position in vector\n"
     ]
    }
   ],
   "source": [
    "%load_ext autoreload\n",
    "from pageranker import PageRanker\n",
    "titles_filename = \"./ch_12_support/titles.txt\"\n",
    "inverse_titles_index_filename = \"./ch_12_support/inverseindex\"\n",
    "word_index_filename = \"./ch_12_support/indexindex.txt\"\n",
    "links_filename = \"./ch_12_support/links.bin\"\n",
    "\n",
    "page_ranker = PageRanker(titles_filename, inverse_titles_index_filename, word_index_filename, links_filename)\n",
    "page_ranker.page_rank_vec = page_rank_vec"
   ]
  },
  {
   "cell_type": "code",
   "execution_count": 96,
   "metadata": {},
   "outputs": [
    {
     "name": "stdout",
     "output_type": "stream",
     "text": [
      "[('mathematics', 509.37372827853164), ('city', 311.6207351250684), ('1995', 273.8398247459559), ('texas', 262.072617037924), ('economics', 223.22489620503322), ('massachusetts', 220.37511582787226), ('physics', 192.01408701027913), ('1964', 184.96137891702597), ('harvard university', 184.3294550594012), ('earth', 158.5311875200723), ('hawaii', 142.38663924994717), ('columbia university', 135.54557733564377), ('petroleum', 132.3893771075619), ('radio', 128.8881326652411), ('jesus', 125.16738133987806), ('yale university', 124.60398875178267), ('korea', 123.48623098615829), ('chemistry', 109.37097277526367), ('princeton university', 107.32988249881973), ('coal', 105.90147429928055), ('cornell university', 99.87561538489099), ('manhattan', 99.02191210670215), ('computer', 96.32631472798978), ('vermont', 95.28476810411364), ('mississippi', 93.57351018278912), ('encyclopdia britannica', 92.46715241244858), ('real number', 90.37897687271216), ('function (mathematics)', 84.9825571283797), ('energy', 82.84265253271924), ('celsius', 81.78622955251976), ('albert einstein', 81.33537561059516), ('temperature', 80.62998769800114), ('technology', 80.45522293757355), ('irish people', 80.26240814723852), ('west virginia', 75.99361527851151), (\"bachelor's degree\", 71.70358473948711), ('brisbane', 71.02226366263535), ('unemployment', 70.40138146655788), ('quantum mechanics', 67.3315255154584), ('isaac newton', 66.23370768697244), ('university of pennsylvania', 64.78203618045634), ('propaganda', 64.77461500881236), ('may 4', 63.976248389185486), ('pressure', 60.55207822855497), ('complex number', 60.20091989494597), ('han chinese', 60.1395653254045), ('area', 60.08420501435427), ('latitude', 59.3175557565274), ('purchasing power parity', 58.84003703349912), ('electron', 58.09553384290663)]\n"
     ]
    }
   ],
   "source": [
    "results = page_ranker.query(\"math\", num_results=50)\n",
    "print(results)"
   ]
  }
 ],
 "metadata": {
  "kernelspec": {
   "display_name": "Python 3",
   "language": "python",
   "name": "python3"
  },
  "language_info": {
   "codemirror_mode": {
    "name": "ipython",
    "version": 3
   },
   "file_extension": ".py",
   "mimetype": "text/x-python",
   "name": "python",
   "nbconvert_exporter": "python",
   "pygments_lexer": "ipython3",
   "version": "3.7.6"
  }
 },
 "nbformat": 4,
 "nbformat_minor": 2
}
